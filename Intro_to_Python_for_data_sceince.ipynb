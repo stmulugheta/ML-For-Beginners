{
  "nbformat": 4,
  "nbformat_minor": 0,
  "metadata": {
    "kernelspec": {
      "display_name": "Python 3",
      "language": "python",
      "name": "python3"
    },
    "language_info": {
      "codemirror_mode": {
        "name": "ipython",
        "version": 3
      },
      "file_extension": ".py",
      "mimetype": "text/x-python",
      "name": "python",
      "nbconvert_exporter": "python",
      "pygments_lexer": "ipython3",
      "version": "3.8.5"
    },
    "colab": {
      "name": "Intro to Python for data sceince.ipynb",
      "provenance": [],
      "include_colab_link": true
    }
  },
  "cells": [
    {
      "cell_type": "markdown",
      "metadata": {
        "id": "view-in-github",
        "colab_type": "text"
      },
      "source": [
        "<a href=\"https://colab.research.google.com/github/stmulugheta/ML-For-Beginners/blob/main/Intro_to_Python_for_data_sceince.ipynb\" target=\"_parent\"><img src=\"https://colab.research.google.com/assets/colab-badge.svg\" alt=\"Open In Colab\"/></a>"
      ]
    },
    {
      "cell_type": "code",
      "metadata": {
        "id": "zti_HeQdIsKT"
      },
      "source": [
        "# Introduciton to Python for Data Science"
      ],
      "execution_count": 12,
      "outputs": []
    },
    {
      "cell_type": "code",
      "metadata": {
        "colab": {
          "base_uri": "https://localhost:8080/"
        },
        "id": "hc1-xkdBHrdm",
        "outputId": "dcf38925-1ab7-41a3-ca69-c8114b5c1bd0"
      },
      "source": [
        "a=list(range(1,10))\n",
        "a[0]=['a', 'b'] # Adding list to the list\n",
        "print(a)\n",
        "a=list(range(1,10))\n",
        "a[0:2]=['a', 'b'] # Adding elenments to the list\n",
        "print(a)"
      ],
      "execution_count": 2,
      "outputs": [
        {
          "output_type": "stream",
          "name": "stdout",
          "text": [
            "[['a', 'b'], 2, 3, 4, 5, 6, 7, 8, 9]\n",
            "['a', 'b', 3, 4, 5, 6, 7, 8, 9]\n"
          ]
        }
      ]
    },
    {
      "cell_type": "code",
      "metadata": {
        "colab": {
          "base_uri": "https://localhost:8080/"
        },
        "id": "IoZPqfKoHrdo",
        "outputId": "5c6b7211-2ff8-48cd-9203-14e151b8164f"
      },
      "source": [
        "x=['a', 'b']\n",
        "print( x+['c','d'] )\n",
        "print( x+[['c','d']] )"
      ],
      "execution_count": 3,
      "outputs": [
        {
          "output_type": "stream",
          "name": "stdout",
          "text": [
            "['a', 'b', 'c', 'd']\n",
            "['a', 'b', ['c', 'd']]\n"
          ]
        }
      ]
    },
    {
      "cell_type": "code",
      "metadata": {
        "colab": {
          "base_uri": "https://localhost:8080/"
        },
        "id": "2BbV40wdHrdp",
        "outputId": "8d7181bc-148f-4052-a848-2cf67c29a5d3"
      },
      "source": [
        "x=['a', 'b']\n",
        "del(x[-1])\n",
        "print(x)"
      ],
      "execution_count": 6,
      "outputs": [
        {
          "output_type": "stream",
          "name": "stdout",
          "text": [
            "['a']\n"
          ]
        }
      ]
    },
    {
      "cell_type": "code",
      "metadata": {
        "id": "Da38X7fKHrdp"
      },
      "source": [
        "y=['a', 'b']\n",
        "x=y # copy to a mimorie address \n",
        "x=list(y) # or y[:] # to copy the Elenment"
      ],
      "execution_count": 5,
      "outputs": []
    },
    {
      "cell_type": "code",
      "metadata": {
        "id": "10z_DeTjHrdp"
      },
      "source": [
        "# Open the Notebook\n",
        "# help(help) \n",
        "\n",
        "#Open a window in the open part\n",
        "#?help"
      ],
      "execution_count": 7,
      "outputs": []
    },
    {
      "cell_type": "code",
      "metadata": {
        "colab": {
          "base_uri": "https://localhost:8080/"
        },
        "id": "r7vknL00Hrdq",
        "outputId": "adb748bb-bbd1-4ba4-d0ef-de961b35071f"
      },
      "source": [
        "x=list(range(5,10))+list(range(1,5))\n",
        "print(x)\n",
        "print( sorted(x) )\n",
        "print( sorted(x, reverse=True) )"
      ],
      "execution_count": 8,
      "outputs": [
        {
          "output_type": "stream",
          "name": "stdout",
          "text": [
            "[5, 6, 7, 8, 9, 1, 2, 3, 4]\n",
            "[1, 2, 3, 4, 5, 6, 7, 8, 9]\n",
            "[9, 8, 7, 6, 5, 4, 3, 2, 1]\n"
          ]
        }
      ]
    },
    {
      "cell_type": "code",
      "metadata": {
        "colab": {
          "base_uri": "https://localhost:8080/"
        },
        "id": "dVDNNOvyHrdq",
        "outputId": "65f2b6da-5f4e-46bd-f668-358480f940c0"
      },
      "source": [
        "# METHODS\n",
        "my_string='aacd'\n",
        "print( my_string.replace('d', 'x') )\n",
        "print( my_string.index('a') )\n",
        "print( my_string.count('ab') )\n",
        "\n",
        "my_list=list(my_string) # from string to char\n",
        "print(my_list)\n",
        "my_list.reverse()\n",
        "print(my_list)"
      ],
      "execution_count": 9,
      "outputs": [
        {
          "output_type": "stream",
          "name": "stdout",
          "text": [
            "aacx\n",
            "0\n",
            "0\n",
            "['a', 'a', 'c', 'd']\n",
            "['d', 'c', 'a', 'a']\n"
          ]
        }
      ]
    },
    {
      "cell_type": "code",
      "metadata": {
        "colab": {
          "base_uri": "https://localhost:8080/"
        },
        "id": "4BcRVuBXHrdq",
        "outputId": "47f8b617-a816-4fff-d2be-232ced250361"
      },
      "source": [
        "a=list(range(1,5))+[1]\n",
        "print(a)\n",
        "print( a.index(1) )"
      ],
      "execution_count": 13,
      "outputs": [
        {
          "output_type": "stream",
          "name": "stdout",
          "text": [
            "[1, 2, 3, 4, 1]\n",
            "0\n"
          ]
        }
      ]
    },
    {
      "cell_type": "code",
      "metadata": {
        "colab": {
          "base_uri": "https://localhost:8080/"
        },
        "id": "bQzUwHNwHrdr",
        "outputId": "2f9a8b28-408a-48a0-e8cb-ef6fc2362b34"
      },
      "source": [
        "a='abc'\n",
        "b=a.upper()\n",
        "print( a + a.upper() + '\\n' + str(b) )"
      ],
      "execution_count": 14,
      "outputs": [
        {
          "output_type": "stream",
          "name": "stdout",
          "text": [
            "abcABC\n",
            "ABC\n"
          ]
        }
      ]
    },
    {
      "cell_type": "markdown",
      "metadata": {
        "id": "yw9ZAEC5Hrdr"
      },
      "source": [
        "# Numpy"
      ]
    },
    {
      "cell_type": "code",
      "metadata": {
        "id": "pkg78petHrds"
      },
      "source": [
        "import numpy as np"
      ],
      "execution_count": 15,
      "outputs": []
    },
    {
      "cell_type": "code",
      "metadata": {
        "colab": {
          "base_uri": "https://localhost:8080/"
        },
        "id": "NiomXvt4Hrds",
        "outputId": "e6947ce6-d71f-4715-9374-82a49ad1bbd6"
      },
      "source": [
        "print( np.ones(3) )\n",
        "print('\\n')\n",
        "print( np.ones(( 1,3)) )\n",
        "print('\\n')\n",
        "print( np.zeros((3,3)) )\n",
        "print('\\n')\n",
        "print( np.zeros((3,3,3)) )\n",
        "print('\\n')"
      ],
      "execution_count": 16,
      "outputs": [
        {
          "output_type": "stream",
          "name": "stdout",
          "text": [
            "[1. 1. 1.]\n",
            "\n",
            "\n",
            "[[1. 1. 1.]]\n",
            "\n",
            "\n",
            "[[0. 0. 0.]\n",
            " [0. 0. 0.]\n",
            " [0. 0. 0.]]\n",
            "\n",
            "\n",
            "[[[0. 0. 0.]\n",
            "  [0. 0. 0.]\n",
            "  [0. 0. 0.]]\n",
            "\n",
            " [[0. 0. 0.]\n",
            "  [0. 0. 0.]\n",
            "  [0. 0. 0.]]\n",
            "\n",
            " [[0. 0. 0.]\n",
            "  [0. 0. 0.]\n",
            "  [0. 0. 0.]]]\n",
            "\n",
            "\n"
          ]
        }
      ]
    },
    {
      "cell_type": "code",
      "metadata": {
        "id": "1rrmHLAWHrds"
      },
      "source": [
        "print( np.random.randint(low=10, size=(2,2,2)) )\n",
        "print('\\n')\n",
        "print( np.random.random((2,2)) )\n",
        "print('\\n')\n",
        "print( np.empty((3,3)))\n",
        "print('\\n')\n",
        "print( np.full((2,2), 2) )"
      ],
      "execution_count": null,
      "outputs": []
    },
    {
      "cell_type": "code",
      "metadata": {
        "id": "_VOAUhCtHrdt"
      },
      "source": [
        "print( np.arange(0, 11 , 2) )\n",
        "print( np.linspace(0, 11, 2) )"
      ],
      "execution_count": null,
      "outputs": []
    },
    {
      "cell_type": "code",
      "metadata": {
        "colab": {
          "base_uri": "https://localhost:8080/"
        },
        "id": "1XtAIwdBHrdt",
        "outputId": "52b38e49-58ae-4c9c-c087-77c79436ef27"
      },
      "source": [
        "x=np.arange(11)\n",
        "x[::2] #elementi pari"
      ],
      "execution_count": 17,
      "outputs": [
        {
          "output_type": "execute_result",
          "data": {
            "text/plain": [
              "array([ 0,  2,  4,  6,  8, 10])"
            ]
          },
          "metadata": {},
          "execution_count": 17
        }
      ]
    },
    {
      "cell_type": "code",
      "metadata": {
        "id": "3bA8JUvdHrdt"
      },
      "source": [
        "x[1::2] #elementi dispari"
      ],
      "execution_count": null,
      "outputs": []
    },
    {
      "cell_type": "code",
      "metadata": {
        "id": "P1JRIvsRHrdt"
      },
      "source": [
        "x[x>5]"
      ],
      "execution_count": null,
      "outputs": []
    },
    {
      "cell_type": "code",
      "metadata": {
        "id": "0q5ROlt1Hrdt"
      },
      "source": [
        "my_array=np.array([[1,2,3], [4,5,6] ,[7,8,9]], np.int32)\n",
        "print(my_array)\n",
        "my_array.shape"
      ],
      "execution_count": null,
      "outputs": []
    },
    {
      "cell_type": "code",
      "metadata": {
        "id": "wgAMSHN7Hrdu"
      },
      "source": [
        "print( my_array[0,:] ) #con le liste non era possibile questa operazione"
      ],
      "execution_count": null,
      "outputs": []
    },
    {
      "cell_type": "code",
      "metadata": {
        "id": "5LhbG4n9Hrdu"
      },
      "source": [
        "#np.sum()\n",
        "#np.sort()\n",
        "#np.mean()\n",
        "#np.median()\n",
        "#np.std()\n",
        "#np.corrcoeff()"
      ],
      "execution_count": null,
      "outputs": []
    },
    {
      "cell_type": "code",
      "metadata": {
        "id": "BvZw1drIHrdu"
      },
      "source": [
        "a=[0,1,2,3,3,4,4,4,5,5,5,5,6,7,7,8,9]\n",
        "\n",
        "from matplotlib import pyplot as plt\n",
        "%matplotlib inline\n",
        "plt.hist(a)"
      ],
      "execution_count": null,
      "outputs": []
    },
    {
      "cell_type": "markdown",
      "metadata": {
        "id": "1UfhCzkRHrdu"
      },
      "source": [
        "# Exercises"
      ]
    },
    {
      "cell_type": "markdown",
      "metadata": {
        "id": "ojbuYZ_tHrdu"
      },
      "source": [
        "Create a numpy array with 200 random values between 1 and 100 ( random_list );\n",
        "Subset random_list by printing out the element at index 50;\n",
        "Print out a sub-array of random_list that contains the elements at index 100 up to\n",
        "and including index 110;\n",
        "Print out a new numpy array with all random_list items whose value is below 25."
      ]
    },
    {
      "cell_type": "code",
      "metadata": {
        "id": "rPoenmRkHrdv"
      },
      "source": [
        "#?np.random.randint"
      ],
      "execution_count": null,
      "outputs": []
    },
    {
      "cell_type": "code",
      "metadata": {
        "id": "2kzILQmvHrdv"
      },
      "source": [
        "random_list=np.random.randint(1,101, 200)\n",
        "print (random_list[50])\n",
        "print (random_list[100:111])\n",
        "print( np.array(random_list[random_list<25]))"
      ],
      "execution_count": null,
      "outputs": []
    },
    {
      "cell_type": "markdown",
      "metadata": {
        "id": "KHlTHFXKHrdv"
      },
      "source": [
        "Create a numpy array with 100 rows and 2 columns, filled with random values\n",
        "between 1 and 100 ( random_matrix );\n",
        "Print out the 50th row of random_matrix ;\n",
        "Store in a new variable second_column the entire second column of\n",
        "random_matrix ;\n",
        "Select the value stored in the 25th row, first column of random_matrix and print it\n",
        "out."
      ]
    },
    {
      "cell_type": "code",
      "metadata": {
        "id": "UumAQ666Hrdv"
      },
      "source": [
        "random_matrix=np.random.randint(1,101, (100,2))\n",
        "print(random_matrix[49,:])\n",
        "second_column=random_matrix[:,1]\n",
        "print(random_matrix[24,0])"
      ],
      "execution_count": null,
      "outputs": []
    },
    {
      "cell_type": "markdown",
      "metadata": {
        "id": "nqOs4nOTHrdv"
      },
      "source": [
        "* Create a uniform subdivision of the interval -1.3 to 2.5 with 64 subdivisions.\n",
        "* Generate an array of length 3n filled with the cyclic pattern 1, 2, 3.\n",
        "* Create an array of the first 10 odd integers.\n",
        "* Create a 10 x 10 arrays of zeros and then \"frame\" it with a border of ones.\n",
        "* Create an 8 x 8 array with a checkerboard pattern of zeros and ones using a slicing+striding approach.\n",
        "<br> Hint: check out the .zeros() method from NumPy docs!"
      ]
    },
    {
      "cell_type": "code",
      "metadata": {
        "id": "YlLXS4VfHrdw"
      },
      "source": [
        "#print( np.linspace(-1.3, 2.5, 64) )\n",
        "n=3\n",
        "print( np.full((3,n), (1,2,3)) )\n",
        "\n",
        "print( np.arange(2, 10*2+1, 2) )\n",
        "\n"
      ],
      "execution_count": null,
      "outputs": []
    },
    {
      "cell_type": "markdown",
      "metadata": {
        "id": "91BQxL_OHrdw"
      },
      "source": [
        "# cornice elementi"
      ]
    },
    {
      "cell_type": "code",
      "metadata": {
        "id": "vUMHlIXcHrdw"
      },
      "source": [
        "z=np.zeros((10,10))\n",
        "i=np.array([[0,9]])\n",
        "\n",
        "z[(0,9) , :]=np.ones(10) #z[(0,9) , :]=np.ones((2,10))\n",
        "z[: , (0,9)]=np.ones((10,2))\n",
        "print(z)"
      ],
      "execution_count": null,
      "outputs": []
    },
    {
      "cell_type": "markdown",
      "metadata": {
        "id": "524e_WDAHrdw"
      },
      "source": [
        "# elementi diagonale"
      ]
    },
    {
      "cell_type": "code",
      "metadata": {
        "id": "O17Uv-Z3Hrdx"
      },
      "source": [
        "A = np.zeros((5, 5))\n",
        "i = np.arange(5)\n",
        "A[i, i] = 1.0\n",
        "print(i)\n",
        "print(A)"
      ],
      "execution_count": null,
      "outputs": []
    },
    {
      "cell_type": "markdown",
      "metadata": {
        "id": "lt6ViHNTHrdx"
      },
      "source": [
        "## Create an 8 x 8 array with a checkerboard pattern of zeros and ones using a slicing+striding approach."
      ]
    },
    {
      "cell_type": "code",
      "metadata": {
        "colab": {
          "base_uri": "https://localhost:8080/"
        },
        "id": "zXuxuN1UHrdx",
        "outputId": "e9270ca1-3fb5-4e79-ea14-8eefdf2356e8"
      },
      "source": [
        "a=np.zeros((8,8))\n",
        "a[1::2, ::2]=1\n",
        "a[::2, 1::2]=1\n",
        "print(a)"
      ],
      "execution_count": 18,
      "outputs": [
        {
          "output_type": "stream",
          "name": "stdout",
          "text": [
            "[[0. 1. 0. 1. 0. 1. 0. 1.]\n",
            " [1. 0. 1. 0. 1. 0. 1. 0.]\n",
            " [0. 1. 0. 1. 0. 1. 0. 1.]\n",
            " [1. 0. 1. 0. 1. 0. 1. 0.]\n",
            " [0. 1. 0. 1. 0. 1. 0. 1.]\n",
            " [1. 0. 1. 0. 1. 0. 1. 0.]\n",
            " [0. 1. 0. 1. 0. 1. 0. 1.]\n",
            " [1. 0. 1. 0. 1. 0. 1. 0.]]\n"
          ]
        }
      ]
    },
    {
      "cell_type": "code",
      "metadata": {
        "colab": {
          "base_uri": "https://localhost:8080/"
        },
        "id": "S080sgk4Hrdx",
        "outputId": "e4958737-aa39-4d65-e7ac-ece7dc84bff5"
      },
      "source": [
        "a=np.arange(10)\n",
        "print(a)\n",
        "\n",
        "a[:8:2]"
      ],
      "execution_count": 19,
      "outputs": [
        {
          "output_type": "stream",
          "name": "stdout",
          "text": [
            "[0 1 2 3 4 5 6 7 8 9]\n"
          ]
        },
        {
          "output_type": "execute_result",
          "data": {
            "text/plain": [
              "array([0, 2, 4, 6])"
            ]
          },
          "metadata": {},
          "execution_count": 19
        }
      ]
    }
  ]
}